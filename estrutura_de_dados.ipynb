{
  "nbformat": 4,
  "nbformat_minor": 0,
  "metadata": {
    "colab": {
      "name": "estrutura-de-dados.ipynb",
      "provenance": [],
      "authorship_tag": "ABX9TyM4PToVd1wKenX/WfTJsJfy",
      "include_colab_link": true
    },
    "kernelspec": {
      "name": "python3",
      "display_name": "Python 3"
    }
  },
  "cells": [
    {
      "cell_type": "markdown",
      "metadata": {
        "id": "view-in-github",
        "colab_type": "text"
      },
      "source": [
        "<a href=\"https://colab.research.google.com/github/computacao-io/estrutura-de-dados/blob/master/estrutura_de_dados.ipynb\" target=\"_parent\"><img src=\"https://colab.research.google.com/assets/colab-badge.svg\" alt=\"Open In Colab\"/></a>"
      ]
    },
    {
      "cell_type": "markdown",
      "metadata": {
        "id": "tmbSu-DX5rOF",
        "colab_type": "text"
      },
      "source": [
        "# Estrutura de Dados com python"
      ]
    },
    {
      "cell_type": "markdown",
      "metadata": {
        "id": "LkOxfOYz56SW",
        "colab_type": "text"
      },
      "source": [
        "## Estruturas Lineares"
      ]
    },
    {
      "cell_type": "markdown",
      "metadata": {
        "id": "MFGMLf3mEbXJ",
        "colab_type": "text"
      },
      "source": [
        "### Tuple - São imutáveis"
      ]
    },
    {
      "cell_type": "code",
      "metadata": {
        "id": "BqjsNxTtJuUw",
        "colab_type": "code",
        "colab": {
          "base_uri": "https://localhost:8080/",
          "height": 35
        },
        "outputId": "4fcb3b0c-162a-4aca-aeff-066f07266c23"
      },
      "source": [
        "tuple1 = (1, 2, 3, 4)\n",
        "tuple2 = tuple([1, 2, 3, 4])\n",
        "print(tuple1, tuple2)"
      ],
      "execution_count": 1,
      "outputs": [
        {
          "output_type": "stream",
          "text": [
            "(1, 2, 3, 4) (1, 2, 3, 4)\n"
          ],
          "name": "stdout"
        }
      ]
    },
    {
      "cell_type": "markdown",
      "metadata": {
        "id": "TB4-iVMb6qod",
        "colab_type": "text"
      },
      "source": [
        "### List - São mutáveis"
      ]
    },
    {
      "cell_type": "code",
      "metadata": {
        "id": "FYOrkktXKbrL",
        "colab_type": "code",
        "colab": {
          "base_uri": "https://localhost:8080/",
          "height": 35
        },
        "outputId": "37631286-e5a8-42b5-81c7-75fd02c612ba"
      },
      "source": [
        "list1 = [1, 2, 3, 4]\n",
        "list2 = list([1, 2, 3, 4])\n",
        "print(list1, list2)"
      ],
      "execution_count": 2,
      "outputs": [
        {
          "output_type": "stream",
          "text": [
            "[1, 2, 3, 4] [1, 2, 3, 4]\n"
          ],
          "name": "stdout"
        }
      ]
    },
    {
      "cell_type": "code",
      "metadata": {
        "id": "zfKuzd8YLCfS",
        "colab_type": "code",
        "colab": {
          "base_uri": "https://localhost:8080/",
          "height": 35
        },
        "outputId": "90f40c42-1c78-4b79-d1a1-d3f1c540cdae"
      },
      "source": [
        "list1[1] = 3\n",
        "print(list1)"
      ],
      "execution_count": 3,
      "outputs": [
        {
          "output_type": "stream",
          "text": [
            "[1, 3, 3, 4]\n"
          ],
          "name": "stdout"
        }
      ]
    },
    {
      "cell_type": "code",
      "metadata": {
        "id": "TF1X5p5nLOWx",
        "colab_type": "code",
        "colab": {
          "base_uri": "https://localhost:8080/",
          "height": 35
        },
        "outputId": "8ebf7023-814f-4d64-db57-1cc1c30b95ef"
      },
      "source": [
        "list1.append(5)\n",
        "print(list1)"
      ],
      "execution_count": 4,
      "outputs": [
        {
          "output_type": "stream",
          "text": [
            "[1, 3, 3, 4, 5]\n"
          ],
          "name": "stdout"
        }
      ]
    },
    {
      "cell_type": "code",
      "metadata": {
        "id": "Z5RBH4npLg0o",
        "colab_type": "code",
        "colab": {
          "base_uri": "https://localhost:8080/",
          "height": 35
        },
        "outputId": "a6195118-8feb-4cd1-e19b-d23febdf05dd"
      },
      "source": [
        "list1.pop()"
      ],
      "execution_count": 5,
      "outputs": [
        {
          "output_type": "execute_result",
          "data": {
            "text/plain": [
              "5"
            ]
          },
          "metadata": {
            "tags": []
          },
          "execution_count": 5
        }
      ]
    },
    {
      "cell_type": "code",
      "metadata": {
        "id": "FwkHzN-bLnxn",
        "colab_type": "code",
        "colab": {
          "base_uri": "https://localhost:8080/",
          "height": 35
        },
        "outputId": "b1387a91-2232-4a52-8660-3a2ddcff0577"
      },
      "source": [
        "print(list1)"
      ],
      "execution_count": 6,
      "outputs": [
        {
          "output_type": "stream",
          "text": [
            "[1, 3, 3, 4]\n"
          ],
          "name": "stdout"
        }
      ]
    },
    {
      "cell_type": "code",
      "metadata": {
        "id": "s56zQjnRLxik",
        "colab_type": "code",
        "colab": {
          "base_uri": "https://localhost:8080/",
          "height": 35
        },
        "outputId": "712664db-0211-420f-998a-a33b50573f72"
      },
      "source": [
        "list1.pop(0)"
      ],
      "execution_count": 7,
      "outputs": [
        {
          "output_type": "execute_result",
          "data": {
            "text/plain": [
              "1"
            ]
          },
          "metadata": {
            "tags": []
          },
          "execution_count": 7
        }
      ]
    },
    {
      "cell_type": "code",
      "metadata": {
        "id": "xERI1E1qL2Nr",
        "colab_type": "code",
        "colab": {
          "base_uri": "https://localhost:8080/",
          "height": 35
        },
        "outputId": "68e8b7b5-512c-4aa7-af8b-22891be79810"
      },
      "source": [
        "print(list1)"
      ],
      "execution_count": 8,
      "outputs": [
        {
          "output_type": "stream",
          "text": [
            "[3, 3, 4]\n"
          ],
          "name": "stdout"
        }
      ]
    },
    {
      "cell_type": "code",
      "metadata": {
        "id": "BGHCJWEuNX5H",
        "colab_type": "code",
        "colab": {}
      },
      "source": [
        "list1.insert(1, 2)"
      ],
      "execution_count": 0,
      "outputs": []
    },
    {
      "cell_type": "code",
      "metadata": {
        "id": "z52JF3mkNmfm",
        "colab_type": "code",
        "colab": {
          "base_uri": "https://localhost:8080/",
          "height": 35
        },
        "outputId": "a3523cf4-b571-432a-e36e-e9c1182c66fe"
      },
      "source": [
        "print(list1)"
      ],
      "execution_count": 10,
      "outputs": [
        {
          "output_type": "stream",
          "text": [
            "[3, 2, 3, 4]\n"
          ],
          "name": "stdout"
        }
      ]
    },
    {
      "cell_type": "markdown",
      "metadata": {
        "id": "sjYTo_pIMFPE",
        "colab_type": "text"
      },
      "source": [
        "#### Pilha"
      ]
    },
    {
      "cell_type": "code",
      "metadata": {
        "id": "wTolJMsMMJJf",
        "colab_type": "code",
        "colab": {}
      },
      "source": [
        "list1.append(5)"
      ],
      "execution_count": 0,
      "outputs": []
    },
    {
      "cell_type": "code",
      "metadata": {
        "id": "iLMec8h-Mfni",
        "colab_type": "code",
        "colab": {
          "base_uri": "https://localhost:8080/",
          "height": 35
        },
        "outputId": "0f013780-2cf8-4865-ea5b-908a89250543"
      },
      "source": [
        "print(list1)"
      ],
      "execution_count": 12,
      "outputs": [
        {
          "output_type": "stream",
          "text": [
            "[3, 2, 3, 4, 5]\n"
          ],
          "name": "stdout"
        }
      ]
    },
    {
      "cell_type": "code",
      "metadata": {
        "id": "629llV-vMudN",
        "colab_type": "code",
        "colab": {
          "base_uri": "https://localhost:8080/",
          "height": 35
        },
        "outputId": "57315ce3-ef69-486d-9794-eb0b732ea2dd"
      },
      "source": [
        "list1.pop()"
      ],
      "execution_count": 13,
      "outputs": [
        {
          "output_type": "execute_result",
          "data": {
            "text/plain": [
              "5"
            ]
          },
          "metadata": {
            "tags": []
          },
          "execution_count": 13
        }
      ]
    },
    {
      "cell_type": "markdown",
      "metadata": {
        "id": "kA6vVklJM6qB",
        "colab_type": "text"
      },
      "source": [
        "#### Fila"
      ]
    },
    {
      "cell_type": "code",
      "metadata": {
        "id": "-kQTunlcM8_t",
        "colab_type": "code",
        "colab": {
          "base_uri": "https://localhost:8080/",
          "height": 35
        },
        "outputId": "0b03395e-a0fd-4bf4-fa31-166009925a06"
      },
      "source": [
        "list1.append(6)\n",
        "print(list1)"
      ],
      "execution_count": 14,
      "outputs": [
        {
          "output_type": "stream",
          "text": [
            "[3, 2, 3, 4, 6]\n"
          ],
          "name": "stdout"
        }
      ]
    },
    {
      "cell_type": "code",
      "metadata": {
        "id": "b50S2zOgNFum",
        "colab_type": "code",
        "colab": {
          "base_uri": "https://localhost:8080/",
          "height": 35
        },
        "outputId": "8d2c9584-17c8-4c44-ed14-05a63f4c5974"
      },
      "source": [
        "list1.pop(0)"
      ],
      "execution_count": 15,
      "outputs": [
        {
          "output_type": "execute_result",
          "data": {
            "text/plain": [
              "3"
            ]
          },
          "metadata": {
            "tags": []
          },
          "execution_count": 15
        }
      ]
    },
    {
      "cell_type": "markdown",
      "metadata": {
        "id": "vjv0_AyfASkz",
        "colab_type": "text"
      },
      "source": [
        "### Deque"
      ]
    },
    {
      "cell_type": "code",
      "metadata": {
        "id": "ZlLAYaz8NvA9",
        "colab_type": "code",
        "colab": {
          "base_uri": "https://localhost:8080/",
          "height": 35
        },
        "outputId": "3cdd676f-0ddd-4cef-9a69-f7e17b69a6f8"
      },
      "source": [
        "from collections import deque\n",
        "\n",
        "queue = deque([1, 2, 3, 4])\n",
        "print(queue)"
      ],
      "execution_count": 16,
      "outputs": [
        {
          "output_type": "stream",
          "text": [
            "deque([1, 2, 3, 4])\n"
          ],
          "name": "stdout"
        }
      ]
    },
    {
      "cell_type": "code",
      "metadata": {
        "id": "hEZJCw0rOCA4",
        "colab_type": "code",
        "colab": {
          "base_uri": "https://localhost:8080/",
          "height": 35
        },
        "outputId": "7ae3b0fc-d0e8-48eb-bf1c-60b76671f519"
      },
      "source": [
        "queue.append(5)\n",
        "print(queue)"
      ],
      "execution_count": 17,
      "outputs": [
        {
          "output_type": "stream",
          "text": [
            "deque([1, 2, 3, 4, 5])\n"
          ],
          "name": "stdout"
        }
      ]
    },
    {
      "cell_type": "code",
      "metadata": {
        "id": "gw2NSShfOHx6",
        "colab_type": "code",
        "colab": {
          "base_uri": "https://localhost:8080/",
          "height": 35
        },
        "outputId": "602d0fb1-3522-4a36-f827-c168ac22e8c9"
      },
      "source": [
        "queue.popleft()"
      ],
      "execution_count": 18,
      "outputs": [
        {
          "output_type": "execute_result",
          "data": {
            "text/plain": [
              "1"
            ]
          },
          "metadata": {
            "tags": []
          },
          "execution_count": 18
        }
      ]
    },
    {
      "cell_type": "markdown",
      "metadata": {
        "id": "Fjq9G6XBAaaR",
        "colab_type": "text"
      },
      "source": [
        "### Array"
      ]
    },
    {
      "cell_type": "code",
      "metadata": {
        "id": "c66d5tmKOZ8p",
        "colab_type": "code",
        "colab": {}
      },
      "source": [
        "from array import array\n",
        "\n",
        "array1 = array('l', [1, 2, 3, 4])"
      ],
      "execution_count": 0,
      "outputs": []
    },
    {
      "cell_type": "code",
      "metadata": {
        "id": "tPpltNb5Ou3i",
        "colab_type": "code",
        "colab": {
          "base_uri": "https://localhost:8080/",
          "height": 35
        },
        "outputId": "9ce83200-f097-402d-af20-5803cb191508"
      },
      "source": [
        "print(array1)"
      ],
      "execution_count": 20,
      "outputs": [
        {
          "output_type": "stream",
          "text": [
            "array('l', [1, 2, 3, 4])\n"
          ],
          "name": "stdout"
        }
      ]
    },
    {
      "cell_type": "markdown",
      "metadata": {
        "id": "-xSVkv5u6BSF",
        "colab_type": "text"
      },
      "source": [
        "## Estruturas Associativas"
      ]
    },
    {
      "cell_type": "markdown",
      "metadata": {
        "id": "eQB0bk6oAnJ2",
        "colab_type": "text"
      },
      "source": [
        "### Set"
      ]
    },
    {
      "cell_type": "code",
      "metadata": {
        "id": "SSfrYQVxPfFK",
        "colab_type": "code",
        "colab": {
          "base_uri": "https://localhost:8080/",
          "height": 35
        },
        "outputId": "072879b7-770a-4766-deb3-56fbc8915e93"
      },
      "source": [
        "set3 = set([1, 2, 3, 4])\n",
        "print(set3)"
      ],
      "execution_count": 21,
      "outputs": [
        {
          "output_type": "stream",
          "text": [
            "{1, 2, 3, 4}\n"
          ],
          "name": "stdout"
        }
      ]
    },
    {
      "cell_type": "code",
      "metadata": {
        "id": "QzKY4nN_O5oA",
        "colab_type": "code",
        "colab": {
          "base_uri": "https://localhost:8080/",
          "height": 35
        },
        "outputId": "1629802f-953b-43df-fd1a-af26a65c9479"
      },
      "source": [
        "set1 = {1, 2, 3, 4}\n",
        "print(set1)"
      ],
      "execution_count": 22,
      "outputs": [
        {
          "output_type": "stream",
          "text": [
            "{1, 2, 3, 4}\n"
          ],
          "name": "stdout"
        }
      ]
    },
    {
      "cell_type": "code",
      "metadata": {
        "id": "wmtKmgrAO-0b",
        "colab_type": "code",
        "colab": {
          "base_uri": "https://localhost:8080/",
          "height": 35
        },
        "outputId": "d00530bd-d910-4044-83e9-d64ed3239a7b"
      },
      "source": [
        "set2 = {1, 3, 4, 5}\n",
        "print(set2)"
      ],
      "execution_count": 23,
      "outputs": [
        {
          "output_type": "stream",
          "text": [
            "{1, 3, 4, 5}\n"
          ],
          "name": "stdout"
        }
      ]
    },
    {
      "cell_type": "code",
      "metadata": {
        "id": "cuAe0plnPEdM",
        "colab_type": "code",
        "colab": {
          "base_uri": "https://localhost:8080/",
          "height": 35
        },
        "outputId": "1191f56a-65d5-4d44-f8bc-46df3aa1b544"
      },
      "source": [
        "set1 | set2"
      ],
      "execution_count": 24,
      "outputs": [
        {
          "output_type": "execute_result",
          "data": {
            "text/plain": [
              "{1, 2, 3, 4, 5}"
            ]
          },
          "metadata": {
            "tags": []
          },
          "execution_count": 24
        }
      ]
    },
    {
      "cell_type": "code",
      "metadata": {
        "id": "eALW8m8BPRTh",
        "colab_type": "code",
        "colab": {
          "base_uri": "https://localhost:8080/",
          "height": 35
        },
        "outputId": "2a8342cf-93fa-4570-838a-6a27654dbea9"
      },
      "source": [
        "set1 ^ set2"
      ],
      "execution_count": 25,
      "outputs": [
        {
          "output_type": "execute_result",
          "data": {
            "text/plain": [
              "{2, 5}"
            ]
          },
          "metadata": {
            "tags": []
          },
          "execution_count": 25
        }
      ]
    },
    {
      "cell_type": "code",
      "metadata": {
        "id": "y3YWx_FwPXRM",
        "colab_type": "code",
        "colab": {
          "base_uri": "https://localhost:8080/",
          "height": 35
        },
        "outputId": "39b370fe-0681-47ee-8920-ee0bf53d6b6a"
      },
      "source": [
        "set1 & set2"
      ],
      "execution_count": 26,
      "outputs": [
        {
          "output_type": "execute_result",
          "data": {
            "text/plain": [
              "{1, 3, 4}"
            ]
          },
          "metadata": {
            "tags": []
          },
          "execution_count": 26
        }
      ]
    },
    {
      "cell_type": "markdown",
      "metadata": {
        "id": "sXWtQJM2Ar4M",
        "colab_type": "text"
      },
      "source": [
        "### Dict"
      ]
    },
    {
      "cell_type": "code",
      "metadata": {
        "id": "fC95WTcsPoo-",
        "colab_type": "code",
        "colab": {
          "base_uri": "https://localhost:8080/",
          "height": 35
        },
        "outputId": "7e58851f-1243-4953-a270-02da4550e7fa"
      },
      "source": [
        "dict1 = {'first': 1, 'last': 2}\n",
        "print(dict1)"
      ],
      "execution_count": 27,
      "outputs": [
        {
          "output_type": "stream",
          "text": [
            "{'first': 1, 'last': 2}\n"
          ],
          "name": "stdout"
        }
      ]
    },
    {
      "cell_type": "code",
      "metadata": {
        "id": "K-WTYNE9Pyow",
        "colab_type": "code",
        "colab": {
          "base_uri": "https://localhost:8080/",
          "height": 35
        },
        "outputId": "621cd2bb-7e66-4859-9d24-71ee9637128a"
      },
      "source": [
        "dict2 = dict({'one': 1, 'two': 2})\n",
        "print(dict2)"
      ],
      "execution_count": 28,
      "outputs": [
        {
          "output_type": "stream",
          "text": [
            "{'one': 1, 'two': 2}\n"
          ],
          "name": "stdout"
        }
      ]
    },
    {
      "cell_type": "code",
      "metadata": {
        "id": "pYJuk2rPQFbP",
        "colab_type": "code",
        "colab": {
          "base_uri": "https://localhost:8080/",
          "height": 35
        },
        "outputId": "8104207d-ffcd-41e8-a0a8-ff322f6b9c3f"
      },
      "source": [
        "dict1.values()"
      ],
      "execution_count": 29,
      "outputs": [
        {
          "output_type": "execute_result",
          "data": {
            "text/plain": [
              "dict_values([1, 2])"
            ]
          },
          "metadata": {
            "tags": []
          },
          "execution_count": 29
        }
      ]
    },
    {
      "cell_type": "code",
      "metadata": {
        "id": "TBPu5eqKQLjb",
        "colab_type": "code",
        "colab": {
          "base_uri": "https://localhost:8080/",
          "height": 35
        },
        "outputId": "121238a9-9720-4a7e-9e43-bb5f05f34831"
      },
      "source": [
        "dict2.items()"
      ],
      "execution_count": 30,
      "outputs": [
        {
          "output_type": "execute_result",
          "data": {
            "text/plain": [
              "dict_items([('one', 1), ('two', 2)])"
            ]
          },
          "metadata": {
            "tags": []
          },
          "execution_count": 30
        }
      ]
    },
    {
      "cell_type": "code",
      "metadata": {
        "id": "rPITL2GKQRQt",
        "colab_type": "code",
        "colab": {
          "base_uri": "https://localhost:8080/",
          "height": 88
        },
        "outputId": "00eda386-9fa0-4974-93f5-9609ac212661"
      },
      "source": [
        "for k, v in dict2.items():\n",
        "  print('Key: {}'.format(k))\n",
        "  print('Values: {}'.format(v))"
      ],
      "execution_count": 31,
      "outputs": [
        {
          "output_type": "stream",
          "text": [
            "Key: one\n",
            "Values: 1\n",
            "Key: two\n",
            "Values: 2\n"
          ],
          "name": "stdout"
        }
      ]
    },
    {
      "cell_type": "markdown",
      "metadata": {
        "id": "XuFY0Thp6Em9",
        "colab_type": "text"
      },
      "source": [
        "# Referências"
      ]
    },
    {
      "cell_type": "markdown",
      "metadata": {
        "id": "qV5tLVrHBJO7",
        "colab_type": "text"
      },
      "source": [
        "Wiki Unicamp\n",
        "\n",
        "*   [Princípios de estruturas de dados](http://calhau.dca.fee.unicamp.br/wiki/images/5/5b/Cap2.pdf)\n",
        "\n",
        "Documentação Oficial do Python\n",
        "\n",
        "*   [Tutorial Estrutura de Dados](https://docs.python.org/pt-br/3/tutorial/datastructures.html#looping-techniques)\n",
        "*   [Tipos de dados - collections](https://docs.python.org/pt-br/3/library/collections.html)\n",
        "*   [Tipos de dados - array](https://docs.python.org/pt-br/3/library/array.html)\n",
        "\n",
        "Palestra de Luciano Ramalho sobre conjuntos\n",
        "\n",
        "*   [Python Set Practice](https://speakerdeck.com/ramalho/python-set-practice-at-pycon)\n"
      ]
    }
  ]
}